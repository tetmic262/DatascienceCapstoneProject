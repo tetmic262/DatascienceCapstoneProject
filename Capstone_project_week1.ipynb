{
 "cells": [
  {
   "cell_type": "markdown",
   "metadata": {},
   "source": [
    "## Introduction\n",
    "\n",
    "This project use Toronto city Neighbourhood Profiles open data and Foursquare API to generate recommendation for below question:\n",
    "In city of Toronto, if someone is looking to open a restaurant, where would you recommend that they open it ?\n",
    "\n",
    "Based on the Neighbourhood profile open data, demographic analysis can be conducted to reveal the restaurant target market demographics. For example: How old are customers? Are they married ? Do they dine in a group ? The occupation, income of the customers within the neightbourhood. \n",
    "\n",
    "With the demograpaphic analysis, FourSquare API will be used to add the second layer of analysis to understand spending pattern with existing food business. This analysis can help to answer below important questions:\n",
    "* Is this neighbourhood over crowded for new food business? \n",
    "* Is there enough spending power for this neighbourhood ?\n",
    "* What is the food preference for this neighbourhood's customer? \n",
    "* Is this neighbourhood business fridendly for food business? \n"
   ]
  },
  {
   "cell_type": "markdown",
   "metadata": {},
   "source": [
    "## Table of Contents\n",
    "1. Data set for generating the demographic analysis:\n",
    "https://open.toronto.ca/dataset/neighbourhood-profiles/\n",
    "2. Exlore the Neighborhood in Toronto City. \n",
    "3. Analyze each neighbourhood.\n",
    "4. Cluster and Examine Neighborhoods. \n",
    "5. Competition and Risk analysis using Foursquare API and cluster examine results.\n"
   ]
  },
  {
   "cell_type": "code",
   "execution_count": null,
   "metadata": {},
   "outputs": [],
   "source": []
  },
  {
   "cell_type": "code",
   "execution_count": null,
   "metadata": {},
   "outputs": [],
   "source": []
  },
  {
   "cell_type": "code",
   "execution_count": null,
   "metadata": {},
   "outputs": [],
   "source": [
    "\n"
   ]
  },
  {
   "cell_type": "code",
   "execution_count": null,
   "metadata": {},
   "outputs": [],
   "source": []
  }
 ],
 "metadata": {
  "kernelspec": {
   "display_name": "Python 3",
   "language": "python",
   "name": "python3"
  },
  "language_info": {
   "codemirror_mode": {
    "name": "ipython",
    "version": 3
   },
   "file_extension": ".py",
   "mimetype": "text/x-python",
   "name": "python",
   "nbconvert_exporter": "python",
   "pygments_lexer": "ipython3",
   "version": "3.7.1"
  }
 },
 "nbformat": 4,
 "nbformat_minor": 2
}
